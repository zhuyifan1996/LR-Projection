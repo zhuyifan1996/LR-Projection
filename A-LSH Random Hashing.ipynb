{
 "cells": [
  {
   "cell_type": "code",
   "execution_count": 1,
   "metadata": {
    "collapsed": true
   },
   "outputs": [],
   "source": [
    "import numpy as np\n",
    "from scipy.io import loadmat\n",
    "from matplotlib import pyplot as plt\n",
    "%matplotlib inline\n",
    "import time"
   ]
  },
  {
   "cell_type": "code",
   "execution_count": 2,
   "metadata": {
    "collapsed": false
   },
   "outputs": [
    {
     "name": "stdout",
     "output_type": "stream",
     "text": [
      "['C', 'D', '__header__', '__globals__', '__version__', 'D2']\n",
      "(5000, 5000)\n"
     ]
    }
   ],
   "source": [
    "'''Loading data'''\n",
    "Xs = loadmat('JSMF-nips/nips_N-5000_train.mat')\n",
    "# normalize it\n",
    "# for i in range(Xs.shape[-1]):\n",
    "#     Xs[...,i] = Xs[...,i] / np.linalg.norm(Xs[...,i], axis=1)[:,np.newaxis]\n",
    "print Xs.keys()\n",
    "\n",
    "C_raw = Xs['C']\n",
    "print C_raw.shape"
   ]
  },
  {
   "cell_type": "code",
   "execution_count": 4,
   "metadata": {
    "collapsed": true
   },
   "outputs": [],
   "source": [
    "'''Temporary data'''\n",
    "X_raw = loadmat('X_nips_5iter_20topics.mat')['X']\n",
    "C_raw = X_raw.dot(X_raw.T)"
   ]
  },
  {
   "cell_type": "code",
   "execution_count": 153,
   "metadata": {
    "collapsed": true
   },
   "outputs": [],
   "source": [
    "'''Hyper-parameters'''\n",
    "from collections import defaultdict\n",
    "U = 0.83\n",
    "svd_k = 20   \n",
    "pq_m = 4\n",
    "results = defaultdict(list)"
   ]
  },
  {
   "cell_type": "code",
   "execution_count": 120,
   "metadata": {
    "collapsed": true
   },
   "outputs": [],
   "source": [
    "'''Hashing helpers'''\n",
    "from collections import defaultdict\n",
    "def val_to_id(row):\n",
    "    return ','.join([str(x) for x in row])\n",
    "\n",
    "def collect_label(hash_val):\n",
    "    N, k = hash_val.shape\n",
    "    bins = defaultdict(list)\n",
    "    for i in range(N):\n",
    "        row = hash_val[i]\n",
    "        bins[val_to_id(row)].append(i)\n",
    "    return bins\n",
    "\n",
    "def gen_ab(d, r, k):\n",
    "    a, b = np.zeros((k,d)), np.zeros(k)\n",
    "    for i in range(k):\n",
    "        a[i] = np.random.multivariate_normal(np.zeros(d), np.eye(d))\n",
    "        b[i] = np.random.random() * r\n",
    "    return a, b\n",
    "\n",
    "def lsh(X, a, b):\n",
    "    hash_val = np.floor((X.dot(a.T) + b) / r).astype(int)\n",
    "\n",
    "    return hash_val, collect_label(hash_val)\n"
   ]
  },
  {
   "cell_type": "markdown",
   "metadata": {},
   "source": [
    "## Step 1: Truncated SVD to construct X"
   ]
  },
  {
   "cell_type": "code",
   "execution_count": 5,
   "metadata": {
    "collapsed": false
   },
   "outputs": [
    {
     "name": "stdout",
     "output_type": "stream",
     "text": [
      "(5000, 20)\n",
      "0.00091812035207 0.000327137747401\n"
     ]
    }
   ],
   "source": [
    "def eval_X(X,C):\n",
    "    print X.shape\n",
    "    print np.linalg.norm(C), np.linalg.norm(C - X.dot(X.T))\n",
    "\n",
    "TRUNCATE = False\n",
    "\n",
    "if TRUNCATE:\n",
    "    from sklearn.decomposition import TruncatedSVD\n",
    "    svd = TruncatedSVD(n_components=svd_k, n_iter=7)\n",
    "    X = svd.fit_transform(C_raw)\n",
    "else:\n",
    "    w, v = np.linalg.eigh(C_raw)\n",
    "    w_trun = w[-svd_k:]\n",
    "    X = v[:,-svd_k:].dot(np.diag(np.sqrt(w_trun)))\n",
    "    \n",
    "eval_X(X,C_raw)"
   ]
  },
  {
   "cell_type": "markdown",
   "metadata": {},
   "source": [
    "## Step 2: Hashing/PQ-Transform"
   ]
  },
  {
   "cell_type": "code",
   "execution_count": 164,
   "metadata": {
    "collapsed": false
   },
   "outputs": [],
   "source": [
    "# first guarantee norms of x are less than 1\n",
    "def max_normalize(X):\n",
    "    norms = np.linalg.norm(X, axis=1)\n",
    "    print np.max(norms)\n",
    "    return X/np.max(norms) * U\n",
    "\n",
    "def max_norm(X):\n",
    "    return np.max(np.linalg.norm(X, axis=1))\n",
    "\n",
    "def avg_norm(X):\n",
    "    return np.average(np.linalg.norm(X, axis=1))\n",
    "\n",
    "def row_normalize(X):\n",
    "    return X / np.linalg.norm(X, axis=1)[:,np.newaxis]\n",
    "\n",
    "mode = 'NN'\n",
    "\n",
    "if mode == 'PQ':\n",
    "    X_norm = max_normalize(X)\n",
    "    assert np.all(np.linalg.norm(X_norm, axis=1)<1)\n",
    "    print avg_norm(X), avg_norm(X_norm)\n",
    "    print max_norm(X_norm)\n",
    "elif mode == 'NN':\n",
    "    X_norm = row_normalize(X)"
   ]
  },
  {
   "cell_type": "code",
   "execution_count": 165,
   "metadata": {
    "collapsed": false
   },
   "outputs": [],
   "source": [
    "def eval_bin_intersection(train_bin, test_bin):\n",
    "    '''Compute bin_pair overlapping'''\n",
    "    overlap = 0\n",
    "    for k in train_bin:\n",
    "        if k in test_bin:\n",
    "            overlap += len(train_bin[k]) * len(test_bin[k])\n",
    "    return overlap\n",
    "\n",
    "def avg_bin_size(train_bin, test_bin):\n",
    "    s = sum([len(l) for l in train_bin.values()]) + sum([len(l) for l in test_bin.values()])\n",
    "    return s * 1. / (len(train_bin) + len(test_bin))\n",
    "\n",
    "def run_NN(X_norm, r, k, trainning=False):\n",
    "    N, d = X_norm.shape\n",
    "    a, b = gen_ab(d, r, k)\n",
    "    train, train_bin = lsh(X_norm, a, b)\n",
    "    test, test_bin = lsh(-1 * X_norm, a, b)\n",
    "    \n",
    "    # print P_hash_bins.keys()\n",
    "#     print len(train_bin[','.join(['0']*k)])\n",
    "#     print sorted(train_bin.keys())\n",
    "#     lengths_p = [len(l) for l in train_bin.values()]\n",
    "#     print lengths_p\n",
    "#     plt.plot(sorted(lengths_p), color='r')\n",
    "\n",
    "    # print Q_hash_bins.keys()\n",
    "#     print len(test_bin[','.join(['0']*k)])\n",
    "#     print sorted(test_bin.keys())\n",
    "#     lengths_q = [len(l) for l in test_bin.values()]\n",
    "#     print lengths_q\n",
    "#     plt.plot(sorted(lengths_q))\n",
    "    \n",
    "#     print \"Overlap ratio: {}%\".format(eval_bin_intersection(train_bin, test_bin)*100./N/N)\n",
    "    if trainning:\n",
    "        return eval_bin_intersection(train_bin, test_bin)*100./N/N, avg_bin_size(train_bin, test_bin)\n",
    "    else:\n",
    "        hash_result = find_neg_dp_hash(X, train_bin, test)\n",
    "        return hash_result"
   ]
  },
  {
   "cell_type": "code",
   "execution_count": 168,
   "metadata": {
    "collapsed": false
   },
   "outputs": [
    {
     "name": "stdout",
     "output_type": "stream",
     "text": [
      "0.5 1\n",
      "(13.746868044853704, 13.948251848774589, 4.659976959228516)\n",
      "0.5 2\n",
      "(2.1222820949597323, 2.1473453934778579, 0.5688032020222057)\n",
      "0.5 3\n",
      "(0.37840006516651825, 0.41530286242098968, 0.18503715775229715)\n",
      "0.5 4\n",
      "(0.03420827313290387, 0.03418636563685655, 0.08317264643582431)\n",
      "0.5 5\n",
      "(0.003955353190220542, 0.0052138460010484637, 0.0964703993363814)\n",
      "1.0 1\n",
      "(23.27134123952194, 23.701340466455932, 6.129283493215388)\n",
      "1.0 2\n",
      "(7.091816885955965, 7.4531040764766026, 1.7355672229420056)\n",
      "1.0 3\n",
      "(1.744386821371686, 1.8951828056532698, 0.4675191749225963)\n",
      "1.0 4\n",
      "(0.5184486109034704, 0.55104248535919942, 0.1856569376858798)\n",
      "1.0 5\n",
      "(0.14277995222320583, 0.15190713360416871, 0.12033334645357999)\n",
      "1.5 1\n",
      "(34.76327418605124, 35.06663116698283, 10.5149273222143)\n",
      "1.5 2\n",
      "(13.768377006563812, 13.845756741312838, 3.980637246912176)\n",
      "1.5 3\n",
      "(7.53895850018539, 7.9211085984609264, 2.017905430360274)\n",
      "1.5 4\n",
      "(1.8541617023065655, 1.9108616790799218, 0.43046448447487573)\n",
      "1.5 5\n",
      "(0.5884002767640841, 0.64507408373990771, 0.1872661763971502)\n",
      "2.0 1\n",
      "(42.76019620211412, 43.570820837586886, 11.938387675718827)\n",
      "2.0 2\n",
      "(20.731091717587226, 21.644780754148194, 5.986342451789162)\n",
      "2.0 3\n",
      "(11.542024867001249, 11.607275404160752, 2.7190242897380483)\n",
      "2.0 4\n",
      "(6.311775598153819, 6.6155626964633605, 1.4583538445559414)\n",
      "2.0 5\n",
      "(2.3453584829256666, 2.6591998742723817, 0.43204270709644665)\n",
      "2.5 1\n",
      "(50.06514577343544, 50.60078117501407, 15.165379480882125)\n",
      "2.5 2\n",
      "(29.520882259507957, 30.547746712260121, 8.201237180016257)\n",
      "2.5 3\n",
      "(16.300266350164655, 17.265806051295726, 3.3843569972298364)\n",
      "2.5 4\n",
      "(10.689881362915134, 10.928868125732345, 2.7125103040175005)\n",
      "2.5 5\n",
      "(5.092911384737342, 5.2492092003088837, 1.0786133462732488)\n",
      "3.0 1\n",
      "(64.31470670848647, 64.442886347519249, 21.711011279713023)\n",
      "3.0 2\n",
      "(34.97171161824148, 35.778587802608143, 10.08613599430431)\n",
      "3.0 3\n",
      "(28.752043195776015, 29.841770010254869, 8.614004026759755)\n",
      "3.0 4\n",
      "(13.17854533450187, 14.243843005032044, 2.754062370820479)\n",
      "3.0 5\n",
      "(9.48943858463633, 9.842652230240434, 2.190549698742953)\n",
      "3.5 1\n",
      "(57.92666609226456, 58.427106772968635, 15.753366513685746)\n",
      "3.5 2\n",
      "(41.35022342905057, 42.057254736612329, 12.514007308266379)\n",
      "3.5 3\n",
      "(24.798944280275773, 25.882838844016906, 5.921520514921709)\n",
      "3.5 4\n",
      "(22.945211305063253, 23.651882851042298, 6.530830708417025)\n",
      "3.5 5\n",
      "(13.010553463167572, 13.615134224565196, 2.7076744599775835)\n",
      "4.0 1\n",
      "(66.01898680170557, 66.276486146932243, 21.76246086033908)\n",
      "4.0 2\n",
      "(49.844676322799415, 50.110766287377459, 14.282484661449086)\n",
      "4.0 3\n",
      "(37.76649364992939, 38.822513620490881, 11.549948757345026)\n",
      "4.0 4\n",
      "(30.658564923181096, 31.628531903067028, 8.62418742613359)\n",
      "4.0 5\n",
      "(12.71953074574865, 13.170403280664869, 2.7085046768188477)\n",
      "4.5 1\n",
      "(60.07019783819203, 60.805524812730887, 18.755001761696555)\n",
      "4.5 2\n",
      "(50.864694144016624, 51.706032750937879, 16.53322627327659)\n",
      "4.5 3\n",
      "(39.151966744054214, 39.792205934318552, 11.281832066449253)\n",
      "4.5 4\n",
      "(26.679016311959536, 27.235338004102335, 6.738220539959994)\n",
      "4.5 5\n",
      "(20.112113518083362, 20.683120327107115, 4.235494201833552)\n",
      "5.0 1\n",
      "(75.8558257166277, 75.79297132277263, 27.623440569097344)\n",
      "5.0 2\n",
      "(58.35712192459189, 58.347763352450578, 22.232216639952227)\n",
      "5.0 3\n",
      "(36.88829460245035, 38.095509443296628, 12.696399602023037)\n",
      "5.0 4\n",
      "(32.8368927132575, 33.153739971846655, 10.99090045148676)\n",
      "5.0 5\n",
      "(28.437744746122338, 28.924084177510903, 9.481844728643244)\n",
      "5.5 1\n",
      "(79.94959552364658, 79.384650215337942, 31.29677711833607)\n",
      "5.5 2\n",
      "(59.48643749497801, 59.97100326130824, 21.695702812888406)\n",
      "5.5 3\n",
      "(44.785274800928875, 45.489758169244595, 14.214643239974976)\n",
      "5.5 4\n",
      "(36.03865431139721, 36.471756164640674, 12.513155807148326)\n",
      "5.5 5\n",
      "(22.56176332411201, 23.498367510959142, 5.380287062038075)\n",
      "6.0 1\n",
      "(72.43981121071563, 73.2526934339473, 27.6391479102048)\n",
      "6.0 2\n",
      "(64.08927923645639, 64.881972280240774, 23.420068654147062)\n",
      "6.0 3\n",
      "(51.65758341473384, 52.05242370509422, 17.80417030507868)\n",
      "6.0 4\n",
      "(50.928083519357095, 51.095587998789853, 18.487333297729492)\n",
      "6.0 5\n",
      "(33.41755515746939, 33.342547851500711, 11.47846269607544)\n",
      "6.5 1\n",
      "(65.57214944541384, 66.202936381253551, 21.860526735132392)\n",
      "6.5 2\n",
      "(55.698066592934815, 56.199801870668573, 18.68626449324868)\n",
      "6.5 3\n",
      "(59.53314800336952, 59.925829822426458, 22.46234120022167)\n",
      "6.5 4\n",
      "(35.82326735131157, 36.706114064600186, 11.560868653384121)\n",
      "6.5 5\n",
      "(44.68796066553381, 45.001844986197263, 16.463605360551313)\n",
      "7.0 1\n",
      "(75.13151203609827, 75.735428533696052, 27.456655177203093)\n",
      "7.0 2\n",
      "(63.16338775724145, 63.585879516062164, 22.400064750151202)\n",
      "7.0 3\n",
      "(32.82950754331492, 33.709794452344234, 9.861623027107932)\n",
      "7.0 4\n",
      "(49.03947843551122, 49.88611548433412, 16.06235753406178)\n",
      "7.0 5\n",
      "(28.215622621688308, 28.180936987367399, 8.809523365714334)\n",
      "7.5 1\n",
      "(72.92947287173992, 73.060626964200864, 26.729834838347003)\n",
      "7.5 2\n",
      "(62.068812911379204, 62.336900068718201, 22.326041308316317)\n",
      "7.5 3\n",
      "(52.29940861937843, 52.763895019170484, 18.521132360805165)\n",
      "7.5 4\n",
      "(54.64599796396119, 55.527668656970761, 17.998359073292125)\n",
      "7.5 5\n",
      "(45.34472908389179, 45.846389717892208, 14.928489381616766)\n",
      "8.0 1\n",
      "(81.07873822020447, 81.0003562396776, 30.994726181030273)\n",
      "8.0 2\n",
      "(73.87498207298403, 74.245638752396957, 27.546593861146405)\n",
      "8.0 3\n",
      "(58.89387441642982, 59.153893422124298, 21.151932803067293)\n",
      "8.0 4\n",
      "(58.581664282621325, 59.052816663693577, 21.459644165906038)\n",
      "8.0 5\n",
      "(41.40711966340221, 41.717944209343962, 13.588709831237793)\n",
      "8.5 1\n",
      "(79.6604190987133, 79.502104360738954, 29.589872208508577)\n",
      "8.5 2\n",
      "(64.64291112888408, 65.068392396954565, 23.026554216038097)\n",
      "8.5 3\n",
      "(61.70134538711082, 62.600022525361055, 22.233378995548595)\n",
      "8.5 4\n",
      "(49.337741108856996, 49.705728642486072, 18.037737586281516)\n",
      "8.5 5\n",
      "(37.773194239512115, 38.575945220548171, 11.736518686467951)\n",
      "9.0 1\n",
      "(86.09915323632946, 86.513546330754721, 32.82646523822438)\n",
      "9.0 2\n",
      "(64.36347787291064, 64.929189638192398, 22.44440338828347)\n",
      "9.0 3\n",
      "(56.251179863877766, 56.749648388412929, 19.640783071517944)\n",
      "9.0 4\n",
      "(57.56630022486045, 57.928844936404786, 19.770750652660023)\n",
      "9.0 5\n",
      "(46.999664071576944, 47.331275970546514, 17.029180418361317)\n",
      "9.5 1\n",
      "(78.92793885853763, 79.539089408510549, 28.253524368459527)\n",
      "9.5 2\n",
      "(62.215907794355374, 63.064972829416085, 21.89203871380199)\n",
      "9.5 3\n",
      "(66.50626280390009, 67.235073921922847, 25.712895545092497)\n",
      "9.5 4\n",
      "(60.90964548833192, 61.130462604828793, 22.324627464467827)\n",
      "9.5 5\n",
      "(61.5825188325291, 61.75907665709051, 21.216042280197144)\n",
      "10.0 1\n",
      "(78.9740615959131, 78.840512788175602, 30.34609842300415)\n",
      "10.0 2\n",
      "(68.79242928803504, 68.48256880995099, 25.391966451298106)\n",
      "10.0 3\n",
      "(58.00713540183552, 58.247050663374445, 19.960490096699107)\n",
      "10.0 4\n",
      "(54.940588797195076, 55.511907619545291, 19.412028724497016)\n",
      "10.0 5\n",
      "(52.19073321599119, 52.978552890817859, 17.577321247621015)\n"
     ]
    }
   ],
   "source": [
    "def eval_result(hash_result, bf_result):\n",
    "#     correct = len(np.where(hash_result == bf_result)[0])\n",
    "    hashed_num = len(np.where(hash_result != 0)[0])\n",
    "    bf_num = len(np.where(bf_result != 0)[0])\n",
    "    hashed_mag = np.sum(hash_result)\n",
    "    bf_mag = np.sum(bf_result)\n",
    "#     print hashed_num, bf_num, hashed_mag, bf_mag\n",
    "#     print \"Correctly identified {}% of neg entries, {}% of magnitude.\".format(hashed_num*100./bf_num, hashed_mag*100./bf_mag)\n",
    "    return hashed_num*100./bf_num, hashed_mag*100./bf_mag\n",
    "\n",
    "def avg_res(results, key=None):\n",
    "    if key:\n",
    "        x, y, z, i = 0, 0, 0, 1.\n",
    "        for xp, yp, zp in results[key]:\n",
    "            x += xp; y += yp; z+=zp; i += 1;\n",
    "        return x/i, y/i, z/i\n",
    "    else:\n",
    "        output = {}\n",
    "        for k in results:\n",
    "            output[k] = avg_res(results, k)\n",
    "        return output\n",
    "\n",
    "def multi_run_NNhash(X_norm, r, k, n=10):\n",
    "    x, y = 0, 0\n",
    "    for i in range(n):\n",
    "        hash_result =  run_NN(X_norm, r, k)\n",
    "        score = eval_result(hash_result[0], bf_result)\n",
    "        results[(r,k)].append(score + (hash_result[1],))\n",
    "    return avg_res(results, (r,k))\n",
    "    \n",
    "# results = defaultdict(list)\n",
    "if mode == 'NN':\n",
    "    for r in [0.5* (x+1) for x in range(20)]:\n",
    "        for k in [1,2,3,4,5]:\n",
    "#             print r, k, multi_run_NNhash(X_norm, r, k, trainning=True)\n",
    "            print r,k\n",
    "            print multi_run_NNhash(X_norm, r, k, n=10)"
   ]
  },
  {
   "cell_type": "code",
   "execution_count": 189,
   "metadata": {
    "collapsed": false
   },
   "outputs": [
    {
     "name": "stdout",
     "output_type": "stream",
     "text": [
      "100\n",
      "20\n",
      "20\n",
      "20\n"
     ]
    },
    {
     "data": {
      "text/plain": [
       "[<matplotlib.lines.Line2D at 0x1260dc4d0>]"
      ]
     },
     "execution_count": 189,
     "metadata": {},
     "output_type": "execute_result"
    },
    {
     "data": {
      "image/png": "[encoded data removed]",
      "text/plain": [
       "<matplotlib.figure.Figure at 0x125175d50>"
      ]
     },
     "metadata": {},
     "output_type": "display_data"
    }
   ],
   "source": [
    "'''parse result for param search'''\n",
    "print len(results)\n",
    "avg_results = avg_res(results)\n",
    "rs = [0.5* (x+1) for x in range(20)]\n",
    "best_mag, best_num, best_k = defaultdict(int), defaultdict(int), defaultdict(int)\n",
    "for r,k in avg_results:\n",
    "    n,m,t = avg_results[r,k]\n",
    "    if m > best_mag[r]:\n",
    "        best_mag[r], best_k[r] = m, k\n",
    "        best_num[r] = n\n",
    "    \n",
    "sorted_best_mag = sorted(best_mag.iteritems(), key=lambda x:x[0])\n",
    "sorted_best_num = sorted(best_num.iteritems(), key=lambda x:x[0])\n",
    "time_spent = [avg_results[r, best_k[r]][2] for r in rs]\n",
    "\n",
    "print len(rs)\n",
    "print len(sorted_best_mag)\n",
    "print len(sorted_best_num)\n",
    "# print time_spent\n",
    "plt.plot(rs, [x[1] for x in sorted_best_num])\n",
    "plt.plot(rs, [x[1] for x in sorted_best_mag], color='b')\n",
    "plt.plot(rs, time_spent, color='green')"
   ]
  },
  {
   "cell_type": "markdown",
   "metadata": {},
   "source": [
    "## Step 3: LSH Hashing"
   ]
  },
  {
   "cell_type": "code",
   "execution_count": 154,
   "metadata": {
    "collapsed": false
   },
   "outputs": [
    {
     "name": "stdout",
     "output_type": "stream",
     "text": [
      "(5000, 28)\n",
      "(5000, 28)\n"
     ]
    }
   ],
   "source": [
    "def P_trans(x):\n",
    "    norm = np.linalg.norm(x)\n",
    "    n = len(x)\n",
    "    ret = np.zeros(n+pq_m * 2)\n",
    "    ret[:n] = x\n",
    "    for i in range(pq_m):\n",
    "        ret[n+i] = norm ** (2 ** (i+1))\n",
    "        ret[n+pq_m+i] = 0.5\n",
    "    return ret\n",
    "\n",
    "def Q_trans(x):\n",
    "    norm = np.linalg.norm(x)\n",
    "    n = len(x)\n",
    "    ret = np.zeros(n+pq_m * 2)\n",
    "    ret[:n]=x\n",
    "    for i in range(pq_m):\n",
    "        ret[n+i] = 0.5\n",
    "        ret[n+pq_m+i] = norm ** (2 ** (i+1))\n",
    "    return ret        \n",
    "\n",
    "if mode == 'PQ':\n",
    "    ptrans_vec = np.vectorize(P_trans, signature='(m)->(n)')\n",
    "    X_ptrans = ptrans_vec(X_norm)\n",
    "    print X_ptrans.shape\n",
    "\n",
    "    qtrans_vec = np.vectorize(Q_trans, signature='(m)->(n)')\n",
    "    X_qtrans = qtrans_vec(-1 * X_norm)\n",
    "    print X_qtrans.shape"
   ]
  },
  {
   "cell_type": "code",
   "execution_count": 161,
   "metadata": {
    "collapsed": false
   },
   "outputs": [
    {
     "name": "stdout",
     "output_type": "stream",
     "text": [
      "1.00115635977\n",
      "8\n",
      "102\n",
      "97.237544 1250.0\n"
     ]
    },
    {
     "data": {
      "image/png": "[encoded data removed]",
      "text/plain": [
       "<matplotlib.figure.Figure at 0x12191ad90>"
      ]
     },
     "metadata": {},
     "output_type": "display_data"
    }
   ],
   "source": [
    "# def compute_intersection()\n",
    "print np.average(np.linalg.norm(X_ptrans, axis=1))\n",
    "\n",
    "r, k = .55,1\n",
    "N, d = X_ptrans.shape\n",
    "a, b= gen_ab(d, r, k)\n",
    "P_hash_val, P_hash_bins = lsh(X_ptrans, a, b)\n",
    "Q_hash_val, Q_hash_bins = lsh(X_qtrans, a, b)\n",
    "\n",
    "# print P_hash_bins.keys()\n",
    "print len(P_hash_bins[','.join(['0']*k)])\n",
    "lengths_p = [len(l) for l in P_hash_bins.values()]\n",
    "plt.plot(sorted(lengths_p), color='r')\n",
    "\n",
    "# print Q_hash_bins.keys()\n",
    "print len(Q_hash_bins[','.join(['0']*k)])\n",
    "lengths_q = [len(l) for l in Q_hash_bins.values()]\n",
    "plt.plot(sorted(lengths_q))\n",
    "\n",
    "print eval_bin_intersection(P_hash_bins, Q_hash_bins)*100./N/N, avg_bin_size(P_hash_bins, Q_hash_bins)"
   ]
  },
  {
   "cell_type": "code",
   "execution_count": 167,
   "metadata": {
    "collapsed": false
   },
   "outputs": [],
   "source": [
    "'''heuristic 1: only look at pi's with exactly same hash value '''\n",
    "def find_neg_dp_hash(X, P_hash_bins, Q_hash_val):\n",
    "    start_time = time.time()\n",
    "    N, k = Q_hash_val.shape\n",
    "    ret = np.zeros((N,N))\n",
    "    N_negs, N_compute = 0, 0\n",
    "    for i in range(N):\n",
    "        # for each query qi, find the bin of pi\n",
    "        # only compute dot products with these pi's\n",
    "        candidates = P_hash_bins[val_to_id(Q_hash_val[i])]\n",
    "        N_compute += len(candidates)\n",
    "        for j in candidates:\n",
    "            dp = X[i].dot(X[j])\n",
    "            if dp < 0:\n",
    "                ret[i,j] = dp\n",
    "                N_negs += 1\n",
    "    end_time = time.time()\n",
    "#     print(\"Compute {} dot products in {} seconds, found {} neg entries\"\\\n",
    "#           .format(N_compute,end_time-start_time, N_negs))\n",
    "    return ret ,end_time-start_time\n",
    "        \n",
    "hash_result = find_neg_dp_hash(X, P_hash_bins, Q_hash_val)"
   ]
  },
  {
   "cell_type": "code",
   "execution_count": 33,
   "metadata": {
    "collapsed": false
   },
   "outputs": [
    {
     "data": {
      "text/plain": [
       "(array([ 109.,    0.,    0.,   12.,    0.,    0.,    1.,    0.,    0.,    1.]),\n",
       " array([ 1. ,  1.3,  1.6,  1.9,  2.2,  2.5,  2.8,  3.1,  3.4,  3.7,  4. ]),\n",
       " <a list of 10 Patch objects>)"
      ]
     },
     "execution_count": 33,
     "metadata": {},
     "output_type": "execute_result"
    },
    {
     "data": {
      "image/png": "[encoded data removed]",
      "text/plain": [
       "<matplotlib.figure.Figure at 0x1392564d0>"
      ]
     },
     "metadata": {},
     "output_type": "display_data"
    }
   ],
   "source": [
    "plt.hist(N_compute_each.values())"
   ]
  },
  {
   "cell_type": "markdown",
   "metadata": {},
   "source": [
    "## Eval code"
   ]
  },
  {
   "cell_type": "code",
   "execution_count": 93,
   "metadata": {
    "collapsed": false
   },
   "outputs": [
    {
     "name": "stdout",
     "output_type": "stream",
     "text": [
      "Compute 5000*5000 dot products in 45.3091168404 seconds, found 1314674 neg entries\n"
     ]
    }
   ],
   "source": [
    "def find_negative_dot_product_bf(X):\n",
    "    h, _ = X.shape\n",
    "    ret = np.zeros((h,h))\n",
    "    start_time = time.time()\n",
    "    neg_entry = 0\n",
    "    for i in range(h):\n",
    "        for j in range(h):\n",
    "            dotp = np.dot(X[i,:],X[j,:])\n",
    "            if dotp < 0:\n",
    "                neg_entry += 1\n",
    "                ret[i,j] = dotp\n",
    "    end_time = time.time()\n",
    "    print(\"Compute {}*{} dot products in {} seconds, found {} neg entries\"\\\n",
    "          .format(h,h,end_time-start_time, neg_entry))\n",
    "    return ret\n",
    "\n",
    "bf_result = find_negative_dot_product_bf(X)"
   ]
  },
  {
   "cell_type": "code",
   "execution_count": 43,
   "metadata": {
    "collapsed": false
   },
   "outputs": [
    {
     "name": "stdout",
     "output_type": "stream",
     "text": [
      "10% of mass lies before 0.935973480878% of entries(12305/1314674)\n",
      "25% of mass lies before 3.26909941172% of entries(42978/1314674)\n",
      "50% of mass lies before 13.9873459124% of entries(183888/1314674)\n",
      "90% of mass lies before 72.8425449959% of entries(957642/1314674)\n",
      "99% of mass lies before 97.0794280559% of entries(1276278/1314674)\n"
     ]
    },
    {
     "data": {
      "image/png": "[encoded data removed]",
      "text/plain": [
       "<matplotlib.figure.Figure at 0x124f3aed0>"
      ]
     },
     "metadata": {},
     "output_type": "display_data"
    }
   ],
   "source": [
    "'''plot bf_result'''\n",
    "negs = bf_result[bf_result<0]\n",
    "plt.plot(sorted(negs))\n",
    "\n",
    "percentages = [10,25,50,90,99]\n",
    "k, i = 0, 0\n",
    "s, ts = 0, np.sum(negs)\n",
    "while k < len(percentages):\n",
    "    p = percentages[k]\n",
    "    if s <= 0.01 * p * ts:\n",
    "        print \"{}% of mass lies before {}% of entries({}/{})\".format(p, 100.*i/len(negs),i, len(negs))\n",
    "        k += 1\n",
    "        continue\n",
    "    s += negs[i]\n",
    "    i += 1"
   ]
  },
  {
   "cell_type": "code",
   "execution_count": 41,
   "metadata": {
    "collapsed": false
   },
   "outputs": [
    {
     "ename": "KeyboardInterrupt",
     "evalue": "",
     "output_type": "error",
     "traceback": [
      "\u001b[0;31m---------------------------------------------------------------------------\u001b[0m",
      "\u001b[0;31mKeyboardInterrupt\u001b[0m                         Traceback (most recent call last)",
      "\u001b[0;32m<ipython-input-41-ba7830e2083c>\u001b[0m in \u001b[0;36m<module>\u001b[0;34m()\u001b[0m\n\u001b[1;32m     41\u001b[0m \u001b[0mP_hash_val\u001b[0m\u001b[0;34m,\u001b[0m \u001b[0mP_hash_bins\u001b[0m \u001b[0;34m=\u001b[0m \u001b[0mlsh\u001b[0m\u001b[0;34m(\u001b[0m\u001b[0mX_ptrans\u001b[0m\u001b[0;34m,\u001b[0m \u001b[0mr\u001b[0m\u001b[0;34m=\u001b[0m\u001b[0;36m0.005\u001b[0m\u001b[0;34m,\u001b[0m \u001b[0mk\u001b[0m\u001b[0;34m=\u001b[0m\u001b[0mk\u001b[0m\u001b[0;34m)\u001b[0m\u001b[0;34m\u001b[0m\u001b[0m\n\u001b[1;32m     42\u001b[0m \u001b[0mQ_hash_val\u001b[0m\u001b[0;34m,\u001b[0m \u001b[0mQ_hash_bins\u001b[0m \u001b[0;34m=\u001b[0m \u001b[0mlsh\u001b[0m\u001b[0;34m(\u001b[0m\u001b[0mX_qtrans\u001b[0m\u001b[0;34m,\u001b[0m \u001b[0mr\u001b[0m\u001b[0;34m=\u001b[0m\u001b[0;36m25\u001b[0m\u001b[0;34m,\u001b[0m \u001b[0mk\u001b[0m\u001b[0;34m=\u001b[0m\u001b[0mk\u001b[0m\u001b[0;34m)\u001b[0m\u001b[0;34m\u001b[0m\u001b[0m\n\u001b[0;32m---> 43\u001b[0;31m \u001b[0mhr2\u001b[0m \u001b[0;34m=\u001b[0m \u001b[0mfndph2\u001b[0m\u001b[0;34m(\u001b[0m\u001b[0mX\u001b[0m\u001b[0;34m,\u001b[0m \u001b[0mP_hash_val\u001b[0m\u001b[0;34m,\u001b[0m \u001b[0mQ_hash_val\u001b[0m\u001b[0;34m)\u001b[0m\u001b[0;34m\u001b[0m\u001b[0m\n\u001b[0m",
      "\u001b[0;32m<ipython-input-41-ba7830e2083c>\u001b[0m in \u001b[0;36mfndph2\u001b[0;34m(X, P_hash_val, Q_hash_val)\u001b[0m\n\u001b[1;32m     23\u001b[0m         \u001b[0mseen\u001b[0m \u001b[0;34m=\u001b[0m \u001b[0mset\u001b[0m\u001b[0;34m(\u001b[0m\u001b[0;34m)\u001b[0m\u001b[0;34m\u001b[0m\u001b[0m\n\u001b[1;32m     24\u001b[0m         \u001b[0;32mwhile\u001b[0m \u001b[0mTrue\u001b[0m\u001b[0;34m:\u001b[0m\u001b[0;34m\u001b[0m\u001b[0m\n\u001b[0;32m---> 25\u001b[0;31m             \u001b[0mi\u001b[0m \u001b[0;34m=\u001b[0m \u001b[0mfind_best_pi\u001b[0m\u001b[0;34m(\u001b[0m\u001b[0mj\u001b[0m\u001b[0;34m,\u001b[0m \u001b[0mseen\u001b[0m\u001b[0;34m)\u001b[0m\u001b[0;34m\u001b[0m\u001b[0m\n\u001b[0m\u001b[1;32m     26\u001b[0m             \u001b[0;32mif\u001b[0m \u001b[0mi\u001b[0m \u001b[0;34m==\u001b[0m \u001b[0;34m-\u001b[0m\u001b[0;36m1\u001b[0m\u001b[0;34m:\u001b[0m \u001b[0;32mbreak\u001b[0m\u001b[0;34m\u001b[0m\u001b[0m\n\u001b[1;32m     27\u001b[0m             \u001b[0mseen\u001b[0m\u001b[0;34m.\u001b[0m\u001b[0madd\u001b[0m\u001b[0;34m(\u001b[0m\u001b[0mi\u001b[0m\u001b[0;34m)\u001b[0m\u001b[0;34m\u001b[0m\u001b[0m\n",
      "\u001b[0;32m<ipython-input-41-ba7830e2083c>\u001b[0m in \u001b[0;36mfind_best_pi\u001b[0;34m(j, seen)\u001b[0m\n\u001b[1;32m     11\u001b[0m         \u001b[0;32mfor\u001b[0m \u001b[0mi\u001b[0m \u001b[0;32min\u001b[0m \u001b[0mrange\u001b[0m\u001b[0;34m(\u001b[0m\u001b[0mN\u001b[0m\u001b[0;34m)\u001b[0m\u001b[0;34m:\u001b[0m\u001b[0;34m\u001b[0m\u001b[0m\n\u001b[1;32m     12\u001b[0m             \u001b[0;32mif\u001b[0m \u001b[0mi\u001b[0m \u001b[0;32min\u001b[0m \u001b[0mseen\u001b[0m\u001b[0;34m:\u001b[0m \u001b[0;32mcontinue\u001b[0m\u001b[0;34m\u001b[0m\u001b[0m\n\u001b[0;32m---> 13\u001b[0;31m             \u001b[0mscore\u001b[0m \u001b[0;34m=\u001b[0m \u001b[0mhash_intersect\u001b[0m\u001b[0;34m(\u001b[0m\u001b[0mP_hash_val\u001b[0m\u001b[0;34m[\u001b[0m\u001b[0mi\u001b[0m\u001b[0;34m]\u001b[0m\u001b[0;34m,\u001b[0m \u001b[0mQ_hash_val\u001b[0m\u001b[0;34m[\u001b[0m\u001b[0mj\u001b[0m\u001b[0;34m]\u001b[0m\u001b[0;34m)\u001b[0m\u001b[0;34m\u001b[0m\u001b[0m\n\u001b[0m\u001b[1;32m     14\u001b[0m             \u001b[0;32mif\u001b[0m \u001b[0mscore\u001b[0m \u001b[0;34m>\u001b[0m \u001b[0mbest_score\u001b[0m \u001b[0;32mand\u001b[0m \u001b[0mi\u001b[0m \u001b[0;32mnot\u001b[0m \u001b[0;32min\u001b[0m \u001b[0mseen\u001b[0m\u001b[0;34m:\u001b[0m\u001b[0;34m\u001b[0m\u001b[0m\n\u001b[1;32m     15\u001b[0m                 \u001b[0mbest\u001b[0m\u001b[0;34m,\u001b[0m \u001b[0mbest_score\u001b[0m \u001b[0;34m=\u001b[0m \u001b[0mi\u001b[0m\u001b[0;34m,\u001b[0m \u001b[0mscore\u001b[0m\u001b[0;34m\u001b[0m\u001b[0m\n",
      "\u001b[0;32m<ipython-input-41-ba7830e2083c>\u001b[0m in \u001b[0;36mhash_intersect\u001b[0;34m(h1, h2)\u001b[0m\n\u001b[1;32m      2\u001b[0m for each qj, find pi with the most overlap in hash-values, compute until dp >= 0'''\n\u001b[1;32m      3\u001b[0m \u001b[0;32mdef\u001b[0m \u001b[0mhash_intersect\u001b[0m\u001b[0;34m(\u001b[0m\u001b[0mh1\u001b[0m\u001b[0;34m,\u001b[0m \u001b[0mh2\u001b[0m\u001b[0;34m)\u001b[0m\u001b[0;34m:\u001b[0m\u001b[0;34m\u001b[0m\u001b[0m\n\u001b[0;32m----> 4\u001b[0;31m     \u001b[0;32mreturn\u001b[0m \u001b[0msum\u001b[0m\u001b[0;34m(\u001b[0m\u001b[0;34m[\u001b[0m\u001b[0;36m1\u001b[0m \u001b[0;32mif\u001b[0m \u001b[0ma\u001b[0m\u001b[0;34m==\u001b[0m\u001b[0mb\u001b[0m \u001b[0;32melse\u001b[0m \u001b[0;36m0\u001b[0m \u001b[0;32mfor\u001b[0m \u001b[0;34m(\u001b[0m\u001b[0ma\u001b[0m\u001b[0;34m,\u001b[0m\u001b[0mb\u001b[0m\u001b[0;34m)\u001b[0m \u001b[0;32min\u001b[0m \u001b[0mzip\u001b[0m\u001b[0;34m(\u001b[0m\u001b[0mh1\u001b[0m\u001b[0;34m,\u001b[0m\u001b[0mh2\u001b[0m\u001b[0;34m)\u001b[0m\u001b[0;34m]\u001b[0m\u001b[0;34m)\u001b[0m\u001b[0;34m\u001b[0m\u001b[0m\n\u001b[0m\u001b[1;32m      5\u001b[0m \u001b[0;34m\u001b[0m\u001b[0m\n\u001b[1;32m      6\u001b[0m \u001b[0mN_compute_each\u001b[0m \u001b[0;34m=\u001b[0m \u001b[0mdefaultdict\u001b[0m\u001b[0;34m(\u001b[0m\u001b[0mint\u001b[0m\u001b[0;34m)\u001b[0m\u001b[0;34m\u001b[0m\u001b[0m\n",
      "\u001b[0;31mKeyboardInterrupt\u001b[0m: "
     ]
    }
   ],
   "source": [
    "'''heuristic 2 (the one used in paper):\n",
    "for each qj, find pi with the most overlap in hash-values, compute until dp >= 0'''\n",
    "def hash_intersect(h1, h2):\n",
    "    return sum([1 if a==b else 0 for (a,b) in zip(h1,h2)])\n",
    "\n",
    "N_compute_each = defaultdict(int)\n",
    "def fndph2(X, P_hash_val, Q_hash_val):\n",
    "    # TODO: precompute each qj label to best pi points\n",
    "    def find_best_pi(j, seen):\n",
    "        ''' i is index for qj'''\n",
    "        best, best_score = -1, 0\n",
    "        for i in range(N):\n",
    "            if i in seen: continue\n",
    "            score = hash_intersect(P_hash_val[i], Q_hash_val[j])\n",
    "            if score > best_score and i not in seen:\n",
    "                best, best_score = i, score\n",
    "        return best\n",
    "    start_time = time.time()\n",
    "    N, k = Q_hash_val.shape\n",
    "    ret = np.zeros((N,N))\n",
    "    N_negs, N_compute = 0, 0\n",
    "    for j in range(N):\n",
    "        # for each query qj, iterate through pi\n",
    "        seen = set()\n",
    "        while True:\n",
    "            i = find_best_pi(j, seen)\n",
    "            if i == -1: break\n",
    "            seen.add(i)\n",
    "            dp = X[i].dot(X[j])\n",
    "            if dp >= 0:\n",
    "                break\n",
    "            else:\n",
    "                ret[i,j] = dp\n",
    "                N_negs += 1\n",
    "                N_compute += 1\n",
    "                N_compute_each[j] += 1\n",
    "    end_time = time.time()\n",
    "    print(\"Compute {} dot products in {} seconds, found {} neg entries\"\\\n",
    "          .format(N_compute,end_time-start_time, N_negs))\n",
    "    return ret\n",
    "    \n",
    "k = 20\n",
    "P_hash_val, P_hash_bins = lsh(X_ptrans, r=0.005, k=k)\n",
    "Q_hash_val, Q_hash_bins = lsh(X_qtrans, r=25, k=k)\n",
    "hr2 = fndph2(X, P_hash_val, Q_hash_val)"
   ]
  }
 ],
 "metadata": {
  "kernelspec": {
   "display_name": "Python 2",
   "language": "python",
   "name": "python2"
  },
  "language_info": {
   "codemirror_mode": {
    "name": "ipython",
    "version": 2
   },
   "file_extension": ".py",
   "mimetype": "text/x-python",
   "name": "python",
   "nbconvert_exporter": "python",
   "pygments_lexer": "ipython2",
   "version": "2.7.12"
  }
 },
 "nbformat": 4,
 "nbformat_minor": 0
}
